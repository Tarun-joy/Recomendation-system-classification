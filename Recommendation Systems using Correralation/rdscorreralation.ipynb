{
 "cells": [
  {
   "cell_type": "code",
   "execution_count": 10,
   "metadata": {},
   "outputs": [],
   "source": [
    "import pandas as pd\n",
    "import numpy as np"
   ]
  },
  {
   "cell_type": "code",
   "execution_count": 11,
   "metadata": {},
   "outputs": [],
   "source": [
    "column_names = ['user_id','item_id','rating','timestamp']\n",
    "df = pd.read_csv('u.data',sep = '\\t',names= column_names)"
   ]
  },
  {
   "cell_type": "code",
   "execution_count": 12,
   "metadata": {},
   "outputs": [
    {
     "data": {
      "text/html": [
       "<div>\n",
       "<style scoped>\n",
       "    .dataframe tbody tr th:only-of-type {\n",
       "        vertical-align: middle;\n",
       "    }\n",
       "\n",
       "    .dataframe tbody tr th {\n",
       "        vertical-align: top;\n",
       "    }\n",
       "\n",
       "    .dataframe thead th {\n",
       "        text-align: right;\n",
       "    }\n",
       "</style>\n",
       "<table border=\"1\" class=\"dataframe\">\n",
       "  <thead>\n",
       "    <tr style=\"text-align: right;\">\n",
       "      <th></th>\n",
       "      <th>user_id</th>\n",
       "      <th>item_id</th>\n",
       "      <th>rating</th>\n",
       "      <th>timestamp</th>\n",
       "    </tr>\n",
       "  </thead>\n",
       "  <tbody>\n",
       "    <tr>\n",
       "      <th>0</th>\n",
       "      <td>0</td>\n",
       "      <td>50</td>\n",
       "      <td>5</td>\n",
       "      <td>881250949</td>\n",
       "    </tr>\n",
       "    <tr>\n",
       "      <th>1</th>\n",
       "      <td>0</td>\n",
       "      <td>172</td>\n",
       "      <td>5</td>\n",
       "      <td>881250949</td>\n",
       "    </tr>\n",
       "    <tr>\n",
       "      <th>2</th>\n",
       "      <td>0</td>\n",
       "      <td>133</td>\n",
       "      <td>1</td>\n",
       "      <td>881250949</td>\n",
       "    </tr>\n",
       "    <tr>\n",
       "      <th>3</th>\n",
       "      <td>196</td>\n",
       "      <td>242</td>\n",
       "      <td>3</td>\n",
       "      <td>881250949</td>\n",
       "    </tr>\n",
       "    <tr>\n",
       "      <th>4</th>\n",
       "      <td>186</td>\n",
       "      <td>302</td>\n",
       "      <td>3</td>\n",
       "      <td>891717742</td>\n",
       "    </tr>\n",
       "  </tbody>\n",
       "</table>\n",
       "</div>"
      ],
      "text/plain": [
       "   user_id  item_id  rating  timestamp\n",
       "0        0       50       5  881250949\n",
       "1        0      172       5  881250949\n",
       "2        0      133       1  881250949\n",
       "3      196      242       3  881250949\n",
       "4      186      302       3  891717742"
      ]
     },
     "execution_count": 12,
     "metadata": {},
     "output_type": "execute_result"
    }
   ],
   "source": [
    "df.head()"
   ]
  },
  {
   "cell_type": "code",
   "execution_count": 13,
   "metadata": {},
   "outputs": [
    {
     "data": {
      "text/html": [
       "<div>\n",
       "<style scoped>\n",
       "    .dataframe tbody tr th:only-of-type {\n",
       "        vertical-align: middle;\n",
       "    }\n",
       "\n",
       "    .dataframe tbody tr th {\n",
       "        vertical-align: top;\n",
       "    }\n",
       "\n",
       "    .dataframe thead th {\n",
       "        text-align: right;\n",
       "    }\n",
       "</style>\n",
       "<table border=\"1\" class=\"dataframe\">\n",
       "  <thead>\n",
       "    <tr style=\"text-align: right;\">\n",
       "      <th></th>\n",
       "      <th>item_id</th>\n",
       "      <th>title</th>\n",
       "    </tr>\n",
       "  </thead>\n",
       "  <tbody>\n",
       "    <tr>\n",
       "      <th>0</th>\n",
       "      <td>1</td>\n",
       "      <td>Toy Story (1995)</td>\n",
       "    </tr>\n",
       "    <tr>\n",
       "      <th>1</th>\n",
       "      <td>2</td>\n",
       "      <td>GoldenEye (1995)</td>\n",
       "    </tr>\n",
       "    <tr>\n",
       "      <th>2</th>\n",
       "      <td>3</td>\n",
       "      <td>Four Rooms (1995)</td>\n",
       "    </tr>\n",
       "    <tr>\n",
       "      <th>3</th>\n",
       "      <td>4</td>\n",
       "      <td>Get Shorty (1995)</td>\n",
       "    </tr>\n",
       "    <tr>\n",
       "      <th>4</th>\n",
       "      <td>5</td>\n",
       "      <td>Copycat (1995)</td>\n",
       "    </tr>\n",
       "  </tbody>\n",
       "</table>\n",
       "</div>"
      ],
      "text/plain": [
       "   item_id              title\n",
       "0        1   Toy Story (1995)\n",
       "1        2   GoldenEye (1995)\n",
       "2        3  Four Rooms (1995)\n",
       "3        4  Get Shorty (1995)\n",
       "4        5     Copycat (1995)"
      ]
     },
     "execution_count": 13,
     "metadata": {},
     "output_type": "execute_result"
    }
   ],
   "source": [
    "movie_titles = pd.read_csv(\"Movie_Id_Titles\")\n",
    "movie_titles.head()"
   ]
  },
  {
   "cell_type": "code",
   "execution_count": 14,
   "metadata": {},
   "outputs": [
    {
     "data": {
      "text/html": [
       "<div>\n",
       "<style scoped>\n",
       "    .dataframe tbody tr th:only-of-type {\n",
       "        vertical-align: middle;\n",
       "    }\n",
       "\n",
       "    .dataframe tbody tr th {\n",
       "        vertical-align: top;\n",
       "    }\n",
       "\n",
       "    .dataframe thead th {\n",
       "        text-align: right;\n",
       "    }\n",
       "</style>\n",
       "<table border=\"1\" class=\"dataframe\">\n",
       "  <thead>\n",
       "    <tr style=\"text-align: right;\">\n",
       "      <th></th>\n",
       "      <th>user_id</th>\n",
       "      <th>item_id</th>\n",
       "      <th>rating</th>\n",
       "      <th>timestamp</th>\n",
       "      <th>title</th>\n",
       "    </tr>\n",
       "  </thead>\n",
       "  <tbody>\n",
       "    <tr>\n",
       "      <th>0</th>\n",
       "      <td>0</td>\n",
       "      <td>50</td>\n",
       "      <td>5</td>\n",
       "      <td>881250949</td>\n",
       "      <td>Star Wars (1977)</td>\n",
       "    </tr>\n",
       "    <tr>\n",
       "      <th>1</th>\n",
       "      <td>290</td>\n",
       "      <td>50</td>\n",
       "      <td>5</td>\n",
       "      <td>880473582</td>\n",
       "      <td>Star Wars (1977)</td>\n",
       "    </tr>\n",
       "    <tr>\n",
       "      <th>2</th>\n",
       "      <td>79</td>\n",
       "      <td>50</td>\n",
       "      <td>4</td>\n",
       "      <td>891271545</td>\n",
       "      <td>Star Wars (1977)</td>\n",
       "    </tr>\n",
       "    <tr>\n",
       "      <th>3</th>\n",
       "      <td>2</td>\n",
       "      <td>50</td>\n",
       "      <td>5</td>\n",
       "      <td>888552084</td>\n",
       "      <td>Star Wars (1977)</td>\n",
       "    </tr>\n",
       "    <tr>\n",
       "      <th>4</th>\n",
       "      <td>8</td>\n",
       "      <td>50</td>\n",
       "      <td>5</td>\n",
       "      <td>879362124</td>\n",
       "      <td>Star Wars (1977)</td>\n",
       "    </tr>\n",
       "  </tbody>\n",
       "</table>\n",
       "</div>"
      ],
      "text/plain": [
       "   user_id  item_id  rating  timestamp             title\n",
       "0        0       50       5  881250949  Star Wars (1977)\n",
       "1      290       50       5  880473582  Star Wars (1977)\n",
       "2       79       50       4  891271545  Star Wars (1977)\n",
       "3        2       50       5  888552084  Star Wars (1977)\n",
       "4        8       50       5  879362124  Star Wars (1977)"
      ]
     },
     "execution_count": 14,
     "metadata": {},
     "output_type": "execute_result"
    }
   ],
   "source": [
    "df = pd.merge(df,movie_titles,on='item_id')\n",
    "df.head()\n"
   ]
  },
  {
   "cell_type": "code",
   "execution_count": 16,
   "metadata": {},
   "outputs": [],
   "source": [
    "import matplotlib.pyplot as plt\n",
    "import seaborn as sns\n",
    "sns.set_style('white')\n",
    "%matplotlib inline"
   ]
  },
  {
   "cell_type": "code",
   "execution_count": 21,
   "metadata": {
    "collapsed": true
   },
   "outputs": [
    {
     "data": {
      "text/plain": [
       "title\n",
       "Marlene Dietrich: Shadow and Light (1996)                                      5.000000\n",
       "Prefontaine (1997)                                                             5.000000\n",
       "Santa with Muscles (1996)                                                      5.000000\n",
       "Star Kid (1997)                                                                5.000000\n",
       "Someone Else's America (1995)                                                  5.000000\n",
       "Entertaining Angels: The Dorothy Day Story (1996)                              5.000000\n",
       "Saint of Fort Washington, The (1993)                                           5.000000\n",
       "Great Day in Harlem, A (1994)                                                  5.000000\n",
       "They Made Me a Criminal (1939)                                                 5.000000\n",
       "Aiqing wansui (1994)                                                           5.000000\n",
       "Pather Panchali (1955)                                                         4.625000\n",
       "Anna (1996)                                                                    4.500000\n",
       "Everest (1998)                                                                 4.500000\n",
       "Maya Lin: A Strong Clear Vision (1994)                                         4.500000\n",
       "Some Mother's Son (1996)                                                       4.500000\n",
       "Close Shave, A (1995)                                                          4.491071\n",
       "Schindler's List (1993)                                                        4.466443\n",
       "Wrong Trousers, The (1993)                                                     4.466102\n",
       "Casablanca (1942)                                                              4.456790\n",
       "Wallace & Gromit: The Best of Aardman Animation (1996)                         4.447761\n",
       "Shawshank Redemption, The (1994)                                               4.445230\n",
       "Rear Window (1954)                                                             4.387560\n",
       "Usual Suspects, The (1995)                                                     4.385768\n",
       "Star Wars (1977)                                                               4.359589\n",
       "12 Angry Men (1957)                                                            4.344000\n",
       "Third Man, The (1949)                                                          4.333333\n",
       "Letter From Death Row, A (1998)                                                4.333333\n",
       "Bitter Sugar (Azucar Amargo) (1996)                                            4.333333\n",
       "Citizen Kane (1941)                                                            4.292929\n",
       "Some Folks Call It a Sling Blade (1993)                                        4.292683\n",
       "To Kill a Mockingbird (1962)                                                   4.292237\n",
       "One Flew Over the Cuckoo's Nest (1975)                                         4.291667\n",
       "Silence of the Lambs, The (1991)                                               4.289744\n",
       "North by Northwest (1959)                                                      4.284916\n",
       "Godfather, The (1972)                                                          4.283293\n",
       "Secrets & Lies (1996)                                                          4.265432\n",
       "Good Will Hunting (1997)                                                       4.262626\n",
       "Shall We Dance? (1996)                                                         4.260870\n",
       "Manchurian Candidate, The (1962)                                               4.259542\n",
       "Dr. Strangelove or: How I Learned to Stop Worrying and Love the Bomb (1963)    4.252577\n",
       "Raiders of the Lost Ark (1981)                                                 4.252381\n",
       "Vertigo (1958)                                                                 4.251397\n",
       "Innocents, The (1961)                                                          4.250000\n",
       "Kaspar Hauser (1993)                                                           4.250000\n",
       "Crossfire (1947)                                                               4.250000\n",
       "Titanic (1997)                                                                 4.245714\n",
       "Lawrence of Arabia (1962)                                                      4.231214\n",
       "Paths of Glory (1957)                                                          4.212121\n",
       "Maltese Falcon, The (1941)                                                     4.210145\n",
       "Empire Strikes Back, The (1980)                                                4.206522\n",
       "Name: rating, dtype: float64"
      ]
     },
     "execution_count": 21,
     "metadata": {},
     "output_type": "execute_result"
    }
   ],
   "source": [
    "df.groupby('title')['rating'].mean().sort_values(ascending = False).head(50)"
   ]
  },
  {
   "cell_type": "code",
   "execution_count": 22,
   "metadata": {},
   "outputs": [
    {
     "data": {
      "text/plain": [
       "title\n",
       "Star Wars (1977)                                584\n",
       "Contact (1997)                                  509\n",
       "Fargo (1996)                                    508\n",
       "Return of the Jedi (1983)                       507\n",
       "Liar Liar (1997)                                485\n",
       "English Patient, The (1996)                     481\n",
       "Scream (1996)                                   478\n",
       "Toy Story (1995)                                452\n",
       "Air Force One (1997)                            431\n",
       "Independence Day (ID4) (1996)                   429\n",
       "Raiders of the Lost Ark (1981)                  420\n",
       "Godfather, The (1972)                           413\n",
       "Pulp Fiction (1994)                             394\n",
       "Twelve Monkeys (1995)                           392\n",
       "Silence of the Lambs, The (1991)                390\n",
       "Jerry Maguire (1996)                            384\n",
       "Chasing Amy (1997)                              379\n",
       "Rock, The (1996)                                378\n",
       "Empire Strikes Back, The (1980)                 368\n",
       "Star Trek: First Contact (1996)                 365\n",
       "Back to the Future (1985)                       350\n",
       "Titanic (1997)                                  350\n",
       "Mission: Impossible (1996)                      344\n",
       "Fugitive, The (1993)                            336\n",
       "Indiana Jones and the Last Crusade (1989)       331\n",
       "Willy Wonka and the Chocolate Factory (1971)    326\n",
       "Princess Bride, The (1987)                      324\n",
       "Forrest Gump (1994)                             321\n",
       "Monty Python and the Holy Grail (1974)          316\n",
       "Saint, The (1997)                               316\n",
       "Full Monty, The (1997)                          315\n",
       "Men in Black (1997)                             303\n",
       "Terminator, The (1984)                          301\n",
       "E.T. the Extra-Terrestrial (1982)               300\n",
       "Dead Man Walking (1995)                         299\n",
       "Schindler's List (1993)                         298\n",
       "Leaving Las Vegas (1995)                        298\n",
       "Braveheart (1995)                               297\n",
       "L.A. Confidential (1997)                        297\n",
       "Terminator 2: Judgment Day (1991)               295\n",
       "Conspiracy Theory (1997)                        295\n",
       "Mr. Holland's Opus (1995)                       293\n",
       "Birdcage, The (1996)                            293\n",
       "Twister (1996)                                  293\n",
       "Alien (1979)                                    291\n",
       "When Harry Met Sally... (1989)                  290\n",
       "Aliens (1986)                                   284\n",
       "Shawshank Redemption, The (1994)                283\n",
       "Groundhog Day (1993)                            280\n",
       "Jaws (1975)                                     280\n",
       "Name: rating, dtype: int64"
      ]
     },
     "execution_count": 22,
     "metadata": {},
     "output_type": "execute_result"
    }
   ],
   "source": [
    "df.groupby('title')['rating'].count().sort_values(ascending = False).head(50)"
   ]
  }
 ],
 "metadata": {
  "kernelspec": {
   "display_name": "Python 3",
   "language": "python",
   "name": "python3"
  },
  "language_info": {
   "codemirror_mode": {
    "name": "ipython",
    "version": 3
   },
   "file_extension": ".py",
   "mimetype": "text/x-python",
   "name": "python",
   "nbconvert_exporter": "python",
   "pygments_lexer": "ipython3",
   "version": "3.6.9"
  }
 },
 "nbformat": 4,
 "nbformat_minor": 4
}
